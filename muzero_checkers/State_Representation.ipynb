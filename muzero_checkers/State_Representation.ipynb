{
 "cells": [
  {
   "cell_type": "code",
   "execution_count": 13,
   "metadata": {},
   "outputs": [
    {
     "name": "stdout",
     "output_type": "stream",
     "text": [
      "Requirement already satisfied: torch in /home/jamison/.local/lib/python3.7/site-packages (1.3.1)\r\n",
      "Requirement already satisfied: numpy in /home/jamison/.local/lib/python3.7/site-packages (from torch) (1.17.4)\r\n"
     ]
    }
   ],
   "source": [
    "!pip install torch --user\n",
    "import numpy as np\n",
    "import torch\n",
    "from scipy.special import softmax"
   ]
  },
  {
   "cell_type": "code",
   "execution_count": 65,
   "metadata": {},
   "outputs": [],
   "source": [
    "A = np.array([0,2,np.sqrt(2),2,2,0,np.sqrt(2),2*np.sqrt(2),np.sqrt(2),np.sqrt(2),0,np.sqrt(2),2,2*np.sqrt(2),np.sqrt(2),0])\n",
    "A = A.reshape((4,4))\n",
    "F = np.array([[0,1],[0,1],[1,0],[1,0]])\n",
    "D_ = np.diag(1/np.sum(A, axis=1))\n",
    "Q = D_@A@F"
   ]
  },
  {
   "cell_type": "code",
   "execution_count": 66,
   "metadata": {},
   "outputs": [
    {
     "name": "stdout",
     "output_type": "stream",
     "text": [
      "[[1.0219778  0.84812115]\n",
      " [0.84812115 1.2817799 ]]\n"
     ]
    },
    {
     "data": {
      "text/plain": [
       "array([0.43541236, 0.56458764])"
      ]
     },
     "execution_count": 66,
     "metadata": {},
     "output_type": "execute_result"
    }
   ],
   "source": [
    "print(Q.T@Q)\n",
    "softmax(np.sum(Q.T@Q, axis=0))"
   ]
  },
  {
   "cell_type": "code",
   "execution_count": 46,
   "metadata": {},
   "outputs": [],
   "source": [
    "A = np.array([0,2,np.sqrt(2),2,np.sqrt(2),np.sqrt(2),0,np.sqrt(2)])\n",
    "A = A.reshape((4,2))\n",
    "F = np.array([[0,1],[1,0]])\n",
    "D_ = np.diag(1/np.sum(A, axis=1))\n",
    "# print(D_1.shape, A.shape, D_2.shape, F.shape)\n",
    "Q = D_@A@F"
   ]
  },
  {
   "cell_type": "code",
   "execution_count": 48,
   "metadata": {},
   "outputs": [
    {
     "name": "stdout",
     "output_type": "stream",
     "text": [
      "[[2.59314575 0.49264069]\n",
      " [0.49264069 0.42157288]]\n"
     ]
    },
    {
     "data": {
      "text/plain": [
       "array([0.89766754, 0.10233246])"
      ]
     },
     "execution_count": 48,
     "metadata": {},
     "output_type": "execute_result"
    }
   ],
   "source": [
    "print(Q.T@Q)\n",
    "softmax(np.sum(Q.T@Q, axis=0))"
   ]
  },
  {
   "cell_type": "code",
   "execution_count": 61,
   "metadata": {},
   "outputs": [],
   "source": [
    "A = np.array([0,2,np.sqrt(2),2,2,2*np.sqrt(2),np.sqrt(2),0])\n",
    "A = A.reshape((4,2))\n",
    "F = np.array([[0,1],[1,0]])\n",
    "D_ = np.diag(1/np.sum(A, axis=1))\n",
    "# print(D_1.shape, A.shape, D_2.shape, F.shape)\n",
    "Q = D_@A@F"
   ]
  },
  {
   "cell_type": "code",
   "execution_count": 62,
   "metadata": {},
   "outputs": [
    {
     "name": "stdout",
     "output_type": "stream",
     "text": [
      "[[1.6862915  0.48528137]\n",
      " [0.48528137 1.34314575]]\n"
     ]
    },
    {
     "data": {
      "text/plain": [
       "array([0.58495446, 0.41504554])"
      ]
     },
     "execution_count": 62,
     "metadata": {},
     "output_type": "execute_result"
    }
   ],
   "source": [
    "print(Q.T@Q)\n",
    "softmax(np.sum(Q.T@Q, axis=0))"
   ]
  },
  {
   "cell_type": "code",
   "execution_count": 63,
   "metadata": {},
   "outputs": [],
   "source": [
    "A = np.array([0,2,np.sqrt(2),2*np.sqrt(2),2,0,np.sqrt(2),2,np.sqrt(2),np.sqrt(2),0,np.sqrt(2),2*np.sqrt(2),2,np.sqrt(2),0])\n",
    "A = A.reshape((4,4))\n",
    "F = np.array([[0,1],[0,1],[1,0],[1,0]])\n",
    "D_ = np.diag(1/np.sum(A, axis=1))\n",
    "Q = D_@A@F"
   ]
  },
  {
   "cell_type": "code",
   "execution_count": 69,
   "metadata": {},
   "outputs": [
    {
     "name": "stdout",
     "output_type": "stream",
     "text": [
      "[[1.0219778  0.84812115]\n",
      " [0.84812115 1.2817799 ]]\n"
     ]
    },
    {
     "data": {
      "text/plain": [
       "array([[0.25141369, 0.21129243],\n",
       "       [0.21129243, 0.32600145]])"
      ]
     },
     "execution_count": 69,
     "metadata": {},
     "output_type": "execute_result"
    }
   ],
   "source": [
    "print(Q.T@Q)\n",
    "softmax(Q.T@Q)"
   ]
  },
  {
   "cell_type": "code",
   "execution_count": 67,
   "metadata": {},
   "outputs": [],
   "source": [
    "A = np.array([0,2,np.sqrt(2),2,2,0,np.sqrt(2),2*np.sqrt(2),np.sqrt(2),np.sqrt(2),0,np.sqrt(2),2,2*np.sqrt(2),np.sqrt(2),0])\n",
    "A = A.reshape((4,4))\n",
    "F = np.array([[0,1],[1,0],[1,0],[0,1]])\n",
    "D_ = np.diag(1/np.sum(A, axis=1))\n",
    "Q = D_@A@F"
   ]
  },
  {
   "cell_type": "code",
   "execution_count": 68,
   "metadata": {},
   "outputs": [
    {
     "name": "stdout",
     "output_type": "stream",
     "text": [
      "[[1.0219778  0.84812115]\n",
      " [0.84812115 1.2817799 ]]\n"
     ]
    },
    {
     "data": {
      "text/plain": [
       "array([0.43541236, 0.56458764])"
      ]
     },
     "execution_count": 68,
     "metadata": {},
     "output_type": "execute_result"
    }
   ],
   "source": [
    "print(Q.T@Q)\n",
    "softmax(np.sum(Q.T@Q, axis=0))"
   ]
  },
  {
   "cell_type": "code",
   "execution_count": 71,
   "metadata": {},
   "outputs": [],
   "source": [
    "A = np.array([0,2,np.sqrt(2),2,2*np.sqrt(2),2,0,np.sqrt(2),2,2*np.sqrt(2),np.sqrt(2),np.sqrt(2),0,np.sqrt(2),np.sqrt(2),2*np.sqrt(2),2,np.sqrt(2),0,2,2,2*np.sqrt(2),np.sqrt(2),2,0])\n",
    "A = A.reshape((5,5))\n",
    "F = np.array([[0,1,0],[0,1,0],[1,0,0],[0,0,1],[1,0,0]])\n",
    "D_ = np.diag(1/np.sum(A, axis=1))\n",
    "Q = D_@A@F"
   ]
  },
  {
   "cell_type": "code",
   "execution_count": 72,
   "metadata": {},
   "outputs": [
    {
     "name": "stdout",
     "output_type": "stream",
     "text": [
      "[[0.70001827 0.69354249 0.37115787]\n",
      " [0.69354249 1.05404051 0.40927125]\n",
      " [0.37115787 0.40927125 0.29799801]]\n"
     ]
    },
    {
     "data": {
      "text/plain": [
       "array([0.33516804, 0.4960951 , 0.16873687])"
      ]
     },
     "execution_count": 72,
     "metadata": {},
     "output_type": "execute_result"
    }
   ],
   "source": [
    "print(Q.T@Q)\n",
    "softmax(np.sum(Q.T@Q, axis=0))"
   ]
  }
 ],
 "metadata": {
  "kernelspec": {
   "display_name": "Python 3",
   "language": "python",
   "name": "python3"
  },
  "language_info": {
   "codemirror_mode": {
    "name": "ipython",
    "version": 3
   },
   "file_extension": ".py",
   "mimetype": "text/x-python",
   "name": "python",
   "nbconvert_exporter": "python",
   "pygments_lexer": "ipython3",
   "version": "3.7.3"
  }
 },
 "nbformat": 4,
 "nbformat_minor": 2
}
